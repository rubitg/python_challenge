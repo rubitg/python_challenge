{
 "cells": [
  {
   "cell_type": "code",
   "execution_count": 103,
   "metadata": {},
   "outputs": [],
   "source": [
    "# Ultimo intento mio .... Pypoll... 22June2019\n",
    "\n",
    "#import libraries OS and CSV to use\n",
    "import os\n",
    "import csv\n",
    "\n",
    "# path of data without folder.\n",
    "csvpath = os.path.join('election_data.csv')\n",
    "# fields are Voter ID, County, and Candidate"
   ]
  },
  {
   "cell_type": "code",
   "execution_count": 120,
   "metadata": {},
   "outputs": [],
   "source": [
    "#Inicialize  var to acumulate votes \n",
    "acum_votes = 0\n",
    "\n"
   ]
  },
  {
   "cell_type": "code",
   "execution_count": 121,
   "metadata": {},
   "outputs": [],
   "source": [
    "#Create an structure to put aggregated data x candidate\n",
    "#also create the list to put uni1ue candidates & cum.votes collected\n",
    "# join all data to create the output\n",
    "summary_res= {} \n",
    "who = [] # unique candidates\n",
    "votes_who = []  # put sum votes\n",
    "percent_who = []  # put % \n",
    "who_win = []\n",
    "name = [] "
   ]
  },
  {
   "cell_type": "code",
   "execution_count": 122,
   "metadata": {},
   "outputs": [
    {
     "data": {
      "text/plain": [
       "3521001"
      ]
     },
     "execution_count": 122,
     "metadata": {},
     "output_type": "execute_result"
    }
   ],
   "source": [
    "#open data to iterate a get variables\n",
    "with open(csvpath, 'r') as csvfile:\n",
    "    csvread = csv.reader(csvfile)\n",
    "    next(csvread) #skipping the first row\n",
    "    #iterate the file to sum and identify candidates\n",
    "    for row in csvread:\n",
    "        acum_votes += 1 \n",
    "        if row[2] in summary_res.keys():\n",
    "            summary_res[row[2]] = summary_res[row[2]] + 1  #candidates \n",
    "        else:\n",
    "            summary_res[row[2]] = 1\n",
    "            \n",
    "            \n",
    "#acum_votes\n"
   ]
  },
  {
   "cell_type": "code",
   "execution_count": 123,
   "metadata": {},
   "outputs": [
    {
     "data": {
      "text/plain": [
       "(['Khan', 'Correy', 'Li', \"O'Tooley\"], [2218231, 704200, 492940, 105630])"
      ]
     },
     "execution_count": 123,
     "metadata": {},
     "output_type": "execute_result"
    }
   ],
   "source": [
    "\n",
    "\n",
    "# candidates and number of votes with order in dic\n",
    "who = [] # unique candidates\n",
    "votes_who = []  # put sum votes\n",
    "\n",
    "for key, value in summary_res.items():\n",
    "    who.append(key)\n",
    "    votes_who.append(value)\n",
    "\n",
    "#who,votes_who   gives (['Khan', 'Correy', 'Li', \"O'Tooley\"], [2218231, 704200, 492940, 105630])\n"
   ]
  },
  {
   "cell_type": "code",
   "execution_count": 125,
   "metadata": {},
   "outputs": [
    {
     "data": {
      "text/plain": [
       "[63.0, 20.0, 14.0, 3.0]"
      ]
     },
     "execution_count": 125,
     "metadata": {},
     "output_type": "execute_result"
    }
   ],
   "source": [
    "# Calcualte % of votes per candidate and put in its list\n",
    "percent_who = []\n",
    "for n in votes_who:\n",
    "    percent_who.append(round(n/acum_votes*100, 1))\n",
    "\n",
    "#percent_who gives [63.0, 20.0, 14.0, 3.0]"
   ]
  },
  {
   "cell_type": "code",
   "execution_count": 126,
   "metadata": {},
   "outputs": [
    {
     "data": {
      "text/plain": [
       "[('Khan', 2218231, 63.0),\n",
       " ('Correy', 704200, 20.0),\n",
       " ('Li', 492940, 14.0),\n",
       " (\"O'Tooley\", 105630, 3.0)]"
      ]
     },
     "execution_count": 126,
     "metadata": {},
     "output_type": "execute_result"
    }
   ],
   "source": [
    "# join the three list in one\n",
    "new_file = list(zip(who, votes_who, percent_who))\n",
    "#new_file  gives ('Khan', 2218231, 63.0),\n",
    "# ('Correy', 704200, 20.0),\n",
    "# ('Li', 492940, 14.0),\n",
    "# (\"O'Tooley\", 105630, 3.0)]"
   ]
  },
  {
   "cell_type": "code",
   "execution_count": 129,
   "metadata": {},
   "outputs": [],
   "source": [
    "#find winner through number of votes\n",
    "who_win = []\n",
    "for name in new_file:\n",
    "    if max(votes_who) == name[1]:\n",
    "        who_win.append(name[0])\n",
    "\n",
    "#who_win equals ['Khan']"
   ]
  },
  {
   "cell_type": "code",
   "execution_count": 133,
   "metadata": {},
   "outputs": [],
   "source": [
    "win = who_win[0]\n",
    "#win gives 'Khan'\n"
   ]
  },
  {
   "cell_type": "code",
   "execution_count": 149,
   "metadata": {},
   "outputs": [],
   "source": [
    "Results = os.path.join('Winner_Poll.txt')"
   ]
  },
  {
   "cell_type": "code",
   "execution_count": 157,
   "metadata": {},
   "outputs": [],
   "source": [
    "#write final results\n",
    "with open(Results, 'w') as txtfile:\n",
    "    txtfile.writelines('Total Votes =' + str(acum_votes)+ ')\\n')\n",
    "    for res in new_file:\n",
    "        txtfile.writelines(res[0] + \": \" + str(res[2]) +'% votes are (' + str(res[1]) + ')\\n')\n",
    "    txtfile.writelines('The Winner is : ' + win )\n",
    "\n"
   ]
  },
  {
   "cell_type": "code",
   "execution_count": 158,
   "metadata": {},
   "outputs": [
    {
     "name": "stdout",
     "output_type": "stream",
     "text": [
      "Total Votes =3521001)\n",
      "Khan: 63.0% votes are (2218231)\n",
      "Correy: 20.0% votes are (704200)\n",
      "Li: 14.0% votes are (492940)\n",
      "O'Tooley: 3.0% votes are (105630)\n",
      "The Winner is : Khan\n"
     ]
    }
   ],
   "source": [
    "\n",
    "\n",
    "with open(Results, 'r') as readfile:\n",
    "    print(readfile.read())\n"
   ]
  },
  {
   "cell_type": "code",
   "execution_count": null,
   "metadata": {},
   "outputs": [],
   "source": []
  }
 ],
 "metadata": {
  "kernelspec": {
   "display_name": "Python 3",
   "language": "python",
   "name": "python3"
  },
  "language_info": {
   "codemirror_mode": {
    "name": "ipython",
    "version": 3
   },
   "file_extension": ".py",
   "mimetype": "text/x-python",
   "name": "python",
   "nbconvert_exporter": "python",
   "pygments_lexer": "ipython3",
   "version": "3.7.3"
  }
 },
 "nbformat": 4,
 "nbformat_minor": 2
}
